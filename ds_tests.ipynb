{
 "cells": [
  {
   "cell_type": "code",
   "execution_count": 4,
   "metadata": {},
   "outputs": [],
   "source": [
    "import json\n",
    "from pathlib import Path\n",
    "\n",
    "import h5py\n",
    "import numpy as np\n",
    "import pymesh"
   ]
  },
  {
   "cell_type": "code",
   "execution_count": 2,
   "metadata": {},
   "outputs": [],
   "source": [
    "ds_path = Path('/home/misha/data/sds/itodd')\n",
    "models_path = ds_path / 'models_dense'"
   ]
  },
  {
   "cell_type": "code",
   "execution_count": 3,
   "metadata": {},
   "outputs": [],
   "source": [
    "dir_path = ds_path / 'data_debug/000000'\n",
    "fname = '000002.hdf5'\n",
    "fpath = dir_path / fname\n",
    "f = h5py.File(fpath.as_posix(), 'r')"
   ]
  },
  {
   "cell_type": "code",
   "execution_count": 10,
   "metadata": {},
   "outputs": [
    {
     "data": {
      "text/plain": [
       "<KeysViewHDF5 ['blender_proc_version', 'colors', 'gt', 'segmap', 'segmap_key_to_num']>"
      ]
     },
     "execution_count": 10,
     "metadata": {},
     "output_type": "execute_result"
    }
   ],
   "source": [
    "f.keys()"
   ]
  },
  {
   "cell_type": "code",
   "execution_count": 12,
   "metadata": {},
   "outputs": [
    {
     "data": {
      "text/plain": [
       "(<HDF5 dataset \"colors\": shape (512, 512, 3), type \"|u1\">,\n",
       " <HDF5 dataset \"gt\": shape (), type \"|S16504\">,\n",
       " <HDF5 dataset \"segmap\": shape (512, 512), type \"|u1\">,\n",
       " <HDF5 dataset \"segmap_key_to_num\": shape (), type \"|S509\">)"
      ]
     },
     "execution_count": 12,
     "metadata": {},
     "output_type": "execute_result"
    }
   ],
   "source": [
    "f['colors'], f['gt'], f['segmap'], f['segmap_key_to_num']"
   ]
  },
  {
   "cell_type": "code",
   "execution_count": 13,
   "metadata": {},
   "outputs": [
    {
     "data": {
      "text/plain": [
       "((512, 512),\n",
       " dtype('uint8'),\n",
       " array([ 0,  2,  6,  8,  9, 14, 15, 16, 23, 28, 46, 48, 50, 65, 66, 68, 69,\n",
       "        71, 72, 76], dtype=uint8))"
      ]
     },
     "execution_count": 13,
     "metadata": {},
     "output_type": "execute_result"
    }
   ],
   "source": [
    "segmap = f['segmap'][...]\n",
    "segmap.shape, segmap.dtype, np.unique(segmap)\n"
   ]
  },
  {
   "cell_type": "code",
   "execution_count": 14,
   "metadata": {},
   "outputs": [
    {
     "data": {
      "text/plain": [
       "'{\"itodd_obj_000002_01\": 2, \"itodd_obj_000006_01\": 6, \"itodd_obj_000008_01\": 8, \"itodd_obj_000009_01\": 9, \"itodd_obj_000014_01\": 14, \"itodd_obj_000015_01\": 15, \"itodd_obj_000016_01\": 16, \"itodd_obj_000023_01\": 23, \"itodd_obj_000028_01\": 28, \"tless_obj_000018_01\": 46, \"tless_obj_000020_01\": 48, \"tless_obj_000022_01\": 50, \"itodd_obj_000021_02\": 65, \"itodd_obj_000016_02\": 66, \"itodd_obj_000021_03\": 68, \"itodd_obj_000028_02\": 69, \"itodd_obj_000007_03\": 71, \"itodd_obj_000018_02\": 72, \"itodd_obj_000002_03\": 76}'"
      ]
     },
     "execution_count": 14,
     "metadata": {},
     "output_type": "execute_result"
    }
   ],
   "source": [
    "amap_str = f['segmap_key_to_num'][...].item().decode('utf-8')\n",
    "amap_str"
   ]
  },
  {
   "cell_type": "code",
   "execution_count": 15,
   "metadata": {},
   "outputs": [
    {
     "data": {
      "text/plain": [
       "{'itodd_obj_000002_01': 2,\n",
       " 'itodd_obj_000006_01': 6,\n",
       " 'itodd_obj_000008_01': 8,\n",
       " 'itodd_obj_000009_01': 9,\n",
       " 'itodd_obj_000014_01': 14,\n",
       " 'itodd_obj_000015_01': 15,\n",
       " 'itodd_obj_000016_01': 16,\n",
       " 'itodd_obj_000023_01': 23,\n",
       " 'itodd_obj_000028_01': 28,\n",
       " 'tless_obj_000018_01': 46,\n",
       " 'tless_obj_000020_01': 48,\n",
       " 'tless_obj_000022_01': 50,\n",
       " 'itodd_obj_000021_02': 65,\n",
       " 'itodd_obj_000016_02': 66,\n",
       " 'itodd_obj_000021_03': 68,\n",
       " 'itodd_obj_000028_02': 69,\n",
       " 'itodd_obj_000007_03': 71,\n",
       " 'itodd_obj_000018_02': 72,\n",
       " 'itodd_obj_000002_03': 76}"
      ]
     },
     "execution_count": 15,
     "metadata": {},
     "output_type": "execute_result"
    }
   ],
   "source": [
    "amap = json.loads(amap_str)\n",
    "amap"
   ]
  },
  {
   "cell_type": "code",
   "execution_count": 14,
   "metadata": {},
   "outputs": [
    {
     "data": {
      "text/plain": [
       "((512, 512, 3), dtype('uint8'), numpy.ndarray)"
      ]
     },
     "execution_count": 14,
     "metadata": {},
     "output_type": "execute_result"
    }
   ],
   "source": [
    "img = f['colors'][...]\n",
    "img.shape, img.dtype, type(img)"
   ]
  },
  {
   "cell_type": "code",
   "execution_count": 28,
   "metadata": {},
   "outputs": [
    {
     "data": {
      "text/plain": [
       "((), dtype('S24807'), numpy.ndarray)"
      ]
     },
     "execution_count": 28,
     "metadata": {},
     "output_type": "execute_result"
    }
   ],
   "source": [
    "gt = f['gt'][...]\n",
    "gt.shape, gt.dtype, type(gt)"
   ]
  },
  {
   "cell_type": "code",
   "execution_count": 29,
   "metadata": {},
   "outputs": [],
   "source": [
    "gt_str = f['gt'][...].item().decode('utf-8')\n",
    "gt = json.loads(gt_str)"
   ]
  },
  {
   "cell_type": "code",
   "execution_count": 31,
   "metadata": {},
   "outputs": [
    {
     "data": {
      "text/plain": [
       "60"
      ]
     },
     "execution_count": 31,
     "metadata": {},
     "output_type": "execute_result"
    }
   ],
   "source": [
    "len(gt['objects'])"
   ]
  },
  {
   "cell_type": "code",
   "execution_count": 18,
   "metadata": {},
   "outputs": [
    {
     "data": {
      "text/plain": [
       "((), dtype('S732'))"
      ]
     },
     "execution_count": 18,
     "metadata": {},
     "output_type": "execute_result"
    }
   ],
   "source": [
    "attr_map = f['instance_attribute_maps'][...]\n",
    "attr_map.shape, attr_map.dtype"
   ]
  },
  {
   "cell_type": "code",
   "execution_count": 19,
   "metadata": {},
   "outputs": [],
   "source": [
    "with open('temp.json', 'w') as jf:\n",
    "    json.dump(gt, jf, indent=2)"
   ]
  },
  {
   "cell_type": "code",
   "execution_count": 19,
   "metadata": {},
   "outputs": [],
   "source": [
    "obj_fpath = models_path / 'obj_000001.ply'\n",
    "mesh = pymesh.load_mesh(obj_fpath.as_posix())"
   ]
  },
  {
   "cell_type": "code",
   "execution_count": 20,
   "metadata": {},
   "outputs": [
    {
     "data": {
      "text/plain": [
       "['face_vertex_indices', 'vertex_x', 'vertex_y', 'vertex_z']"
      ]
     },
     "execution_count": 20,
     "metadata": {},
     "output_type": "execute_result"
    }
   ],
   "source": [
    "mesh.get_attribute_names()"
   ]
  },
  {
   "cell_type": "code",
   "execution_count": 21,
   "metadata": {},
   "outputs": [],
   "source": [
    "mesh.add_attribute('vertex_normal')"
   ]
  },
  {
   "cell_type": "code",
   "execution_count": 22,
   "metadata": {},
   "outputs": [
    {
     "data": {
      "text/plain": [
       "((18613, 3), dtype('float64'), True)"
      ]
     },
     "execution_count": 22,
     "metadata": {},
     "output_type": "execute_result"
    }
   ],
   "source": [
    "normals = mesh.get_attribute('vertex_normal').reshape((-1, 3))\n",
    "normals.shape, normals.dtype, np.allclose(np.linalg.norm(normals, axis=1), 1)"
   ]
  },
  {
   "cell_type": "code",
   "execution_count": 13,
   "metadata": {},
   "outputs": [
    {
     "data": {
      "text/plain": [
       "(18613,)"
      ]
     },
     "execution_count": 13,
     "metadata": {},
     "output_type": "execute_result"
    }
   ],
   "source": [
    "mesh.get_attribute('vertex_x').shape"
   ]
  },
  {
   "cell_type": "code",
   "execution_count": 17,
   "metadata": {},
   "outputs": [
    {
     "data": {
      "text/plain": [
       "((18613, 3), dtype('float64'), True)"
      ]
     },
     "execution_count": 17,
     "metadata": {},
     "output_type": "execute_result"
    }
   ],
   "source": [
    "normals = mesh.get_vertex_attribute('vertex_normal')\n",
    "normals.shape, normals.dtype, np.allclose(np.linalg.norm(normals, axis=1), 1)"
   ]
  },
  {
   "cell_type": "code",
   "execution_count": 18,
   "metadata": {},
   "outputs": [
    {
     "data": {
      "text/plain": [
       "['face_area',\n",
       " 'face_normal',\n",
       " 'face_vertex_indices',\n",
       " 'vertex_x',\n",
       " 'vertex_y',\n",
       " 'vertex_z']"
      ]
     },
     "execution_count": 18,
     "metadata": {},
     "output_type": "execute_result"
    }
   ],
   "source": [
    "if mesh.has_attribute('vertex_normal'):\n",
    "    mesh.remove_attribute('vertex_normal')\n",
    "mesh.get_attribute_names()"
   ]
  },
  {
   "cell_type": "code",
   "execution_count": 24,
   "metadata": {},
   "outputs": [],
   "source": [
    "pymesh.save_mesh('test.ply', mesh, 'vertex_normal', ascii=True)"
   ]
  },
  {
   "cell_type": "code",
   "execution_count": null,
   "metadata": {},
   "outputs": [],
   "source": []
  }
 ],
 "metadata": {
  "interpreter": {
   "hash": "7bfe13b4e2a61ac623d9cdc92a5e3efb4f7f2434b81a90fa8bb7398804e19098"
  },
  "kernelspec": {
   "display_name": "Python 3.9.9 64-bit ('sds': conda)",
   "language": "python",
   "name": "python3"
  },
  "language_info": {
   "codemirror_mode": {
    "name": "ipython",
    "version": 3
   },
   "file_extension": ".py",
   "mimetype": "text/x-python",
   "name": "python",
   "nbconvert_exporter": "python",
   "pygments_lexer": "ipython3",
   "version": "3.9.9"
  },
  "orig_nbformat": 4
 },
 "nbformat": 4,
 "nbformat_minor": 2
}
