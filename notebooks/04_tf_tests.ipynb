{
 "cells": [
  {
   "cell_type": "code",
   "execution_count": 1,
   "metadata": {},
   "outputs": [
    {
     "name": "stderr",
     "output_type": "stream",
     "text": [
      "2022-05-12 10:36:52.347662: I tensorflow/stream_executor/platform/default/dso_loader.cc:49] Successfully opened dynamic library libcudart.so.10.1\n"
     ]
    }
   ],
   "source": [
    "import numpy as np\n",
    "import tensorflow as tf"
   ]
  },
  {
   "cell_type": "code",
   "execution_count": 67,
   "metadata": {},
   "outputs": [],
   "source": [
    "N = 10\n",
    "xt, yt = np.arange(N), np.arange(10)"
   ]
  },
  {
   "cell_type": "code",
   "execution_count": 68,
   "metadata": {},
   "outputs": [
    {
     "data": {
      "text/plain": [
       "array([0, 1, 2, 3, 4, 5, 6, 7, 8, 9])"
      ]
     },
     "execution_count": 68,
     "metadata": {},
     "output_type": "execute_result"
    }
   ],
   "source": [
    "xt"
   ]
  },
  {
   "cell_type": "code",
   "execution_count": 69,
   "metadata": {},
   "outputs": [
    {
     "data": {
      "text/plain": [
       "10"
      ]
     },
     "execution_count": 69,
     "metadata": {},
     "output_type": "execute_result"
    }
   ],
   "source": [
    "ds = tf.data.Dataset.from_tensor_slices(xt)\n",
    "list(ds.as_numpy_iterator())\n",
    "len(ds)"
   ]
  },
  {
   "cell_type": "code",
   "execution_count": 70,
   "metadata": {},
   "outputs": [],
   "source": [
    "from typing import Tuple"
   ]
  },
  {
   "cell_type": "code",
   "execution_count": 113,
   "metadata": {},
   "outputs": [],
   "source": [
    "class DS(tf.keras.utils.Sequence):\n",
    "    def __init__(self, name: str, n: int, b: int):\n",
    "        self.name = name\n",
    "        self.n = n\n",
    "        self.b = b\n",
    "        self.x = np.random.uniform(size=(self.n, 10, 10, 3))\n",
    "        self.y = np.random.randint(0, 2, size=(self.n, 10))\n",
    "    \n",
    "    def __len__(self) -> int:\n",
    "        return self.n // self.b + self.n % self.b\n",
    "\n",
    "    def __getitem__(self, ind: int) -> Tuple[np.ndarray]:\n",
    "        inds = slice(self.b * ind, self.b * (ind + 1))\n",
    "        x, y = self.x[inds], self.y[inds]\n",
    "        print(f'DS({self.name}).__getitem__', ind, len(x))\n",
    "        return self.x[inds], self.y[inds]\n",
    "    \n",
    "    def on_epoch_end(self):\n",
    "        print(f'DS({self.name}).on_epoch_end')\n",
    "        \n",
    "    def gen(self):\n",
    "        nb = self.n // self.b + self.n % self.b\n",
    "        ib = 0\n",
    "        while True:\n",
    "            inds = slice(self.b * ib, self.b * (ib + 1))\n",
    "            x, y = self.x[inds], self.y[inds]\n",
    "            print(f'DS({self.name})', ib, len(x))\n",
    "            yield x, y\n",
    "            ib += 1\n",
    "            if ib == nb:\n",
    "                print(f'DS({self.name}) is over')\n",
    "                ib = 0\n"
   ]
  },
  {
   "cell_type": "code",
   "execution_count": 114,
   "metadata": {},
   "outputs": [],
   "source": [
    "def get_uncompiled_model():\n",
    "    inp = tf.keras.Input(shape=(10, 10, 3), dtype=tf.float32)\n",
    "    x = inp\n",
    "    x = tf.keras.layers.Conv2D(5, 3, activation='relu')(x)\n",
    "    x = tf.keras.layers.Conv2D(10, 3, activation='relu')(x)\n",
    "    x = tf.keras.layers.GlobalAveragePooling2D()(x)\n",
    "    x = tf.keras.layers.Softmax()(x)\n",
    "    out = x\n",
    "    model = tf.keras.models.Model(inputs=inp, outputs=out)\n",
    "    return model\n"
   ]
  },
  {
   "cell_type": "code",
   "execution_count": 115,
   "metadata": {},
   "outputs": [],
   "source": [
    "model = get_uncompiled_model()\n",
    "model.compile(\n",
    "    optimizer=tf.keras.optimizers.RMSprop(learning_rate=1e-3),\n",
    "    loss=tf.keras.losses.CategoricalCrossentropy(),\n",
    "    metrics=[tf.keras.metrics.CategoricalAccuracy()],\n",
    ")"
   ]
  },
  {
   "cell_type": "code",
   "execution_count": 116,
   "metadata": {},
   "outputs": [],
   "source": [
    "ds_train = DS('train', 20, 4)\n",
    "ds_val = DS('val', 10, 4)"
   ]
  },
  {
   "cell_type": "code",
   "execution_count": 104,
   "metadata": {},
   "outputs": [
    {
     "name": "stdout",
     "output_type": "stream",
     "text": [
      "DS(train).__getitem__ 0 4\n",
      "Epoch 1/3\n",
      "DS(train).__getitem__ 0 4\n",
      "1/2 [==============>...............] - ETA: 0s - loss: 14.2495 - categorical_accuracy: 0.0000e+00DS(train).__getitem__ 1 4\n",
      "DS(val).__getitem__ 0 4\n",
      "DS(val).__getitem__ 0 4\n",
      "DS(val).__getitem__ 1 4\n",
      "DS(val).on_epoch_end\n",
      "2/2 [==============================] - 0s 63ms/step - loss: 12.3325 - categorical_accuracy: 0.1250 - val_loss: 11.9955 - val_categorical_accuracy: 0.1250\n",
      "DS(train).on_epoch_end\n",
      "Epoch 2/3\n",
      "DS(train).__getitem__ 0 4\n",
      "1/2 [==============>...............] - ETA: 0s - loss: 14.3490 - categorical_accuracy: 0.0000e+00DS(train).__getitem__ 1 4\n",
      "DS(val).__getitem__ 0 4\n",
      "DS(val).__getitem__ 1 4\n",
      "DS(val).on_epoch_end\n",
      "2/2 [==============================] - 0s 43ms/step - loss: 12.4135 - categorical_accuracy: 0.1250 - val_loss: 12.0610 - val_categorical_accuracy: 0.1250\n",
      "DS(train).on_epoch_end\n",
      "Epoch 3/3\n",
      "DS(train).__getitem__ 0 4\n",
      "1/2 [==============>...............] - ETA: 0s - loss: 14.4533 - categorical_accuracy: 0.0000e+00DS(train).__getitem__ 1 4\n",
      "DS(val).__getitem__ 0 4\n",
      "DS(val).__getitem__ 1 4\n",
      "DS(val).on_epoch_end\n",
      "2/2 [==============================] - 0s 44ms/step - loss: 12.4988 - categorical_accuracy: 0.1250 - val_loss: 12.1291 - val_categorical_accuracy: 0.1250\n",
      "DS(train).on_epoch_end\n"
     ]
    },
    {
     "data": {
      "text/plain": [
       "<tensorflow.python.keras.callbacks.History at 0x7f977856b460>"
      ]
     },
     "execution_count": 104,
     "metadata": {},
     "output_type": "execute_result"
    }
   ],
   "source": [
    "model.fit(ds_train, epochs=3, steps_per_epoch=2, validation_data=ds_val, validation_steps=2,\n",
    "          max_queue_size=0, workers=0, shuffle=True)"
   ]
  },
  {
   "cell_type": "code",
   "execution_count": 117,
   "metadata": {},
   "outputs": [
    {
     "name": "stdout",
     "output_type": "stream",
     "text": [
      "Epoch 1/3\n",
      "DS(train) 0 4\n",
      "1/2 [==============>...............] - ETA: 0s - loss: 12.1399 - categorical_accuracy: 0.2500DS(train) 1 4\n",
      "DS(val) 0 4\n",
      "DS(val) 1 4\n",
      "2/2 [==============================] - 0s 149ms/step - loss: 11.1460 - categorical_accuracy: 0.1667 - val_loss: 10.9498 - val_categorical_accuracy: 0.0000e+00\n",
      "Epoch 2/3\n",
      "DS(train) 2 4\n",
      "1/2 [==============>...............] - ETA: 0s - loss: 10.4354 - categorical_accuracy: 0.0000e+00DS(train) 3 4\n",
      "DS(val) 0 4\n",
      "DS(val) 1 4\n",
      "2/2 [==============================] - 0s 34ms/step - loss: 10.8114 - categorical_accuracy: 0.0000e+00 - val_loss: 10.9561 - val_categorical_accuracy: 0.0000e+00\n",
      "Epoch 3/3\n",
      "DS(train) 4 4\n",
      "1/2 [==============>...............] - ETA: 0s - loss: 11.4056 - categorical_accuracy: 0.2500DS(train) is over\n",
      "DS(train) 0 4\n",
      "DS(val) 0 4\n",
      "DS(val) 1 4\n",
      "2/2 [==============================] - 0s 38ms/step - loss: 11.6635 - categorical_accuracy: 0.2500 - val_loss: 10.9698 - val_categorical_accuracy: 0.0000e+00\n"
     ]
    },
    {
     "data": {
      "text/plain": [
       "<tensorflow.python.keras.callbacks.History at 0x7f93b0a4a1c0>"
      ]
     },
     "execution_count": 117,
     "metadata": {},
     "output_type": "execute_result"
    }
   ],
   "source": [
    "out_sig = (\n",
    "        tf.TensorSpec(shape=(None, 10, 10, 3), dtype=tf.float32),\n",
    "        tf.TensorSpec(shape=(None, 10), dtype=tf.float32),\n",
    "    )\n",
    "ds_train_gen = tf.data.Dataset.from_generator(ds_train.gen, output_signature=out_sig)\n",
    "ds_val_gen = tf.data.Dataset.from_generator(ds_val.gen, output_signature=out_sig)\n",
    "model.fit(ds_train_gen, epochs=3, steps_per_epoch=2, validation_data=ds_val_gen, validation_steps=2,\n",
    "          max_queue_size=0, workers=0, shuffle=True)"
   ]
  },
  {
   "cell_type": "code",
   "execution_count": 20,
   "metadata": {},
   "outputs": [
    {
     "data": {
      "text/plain": [
       "array([[0, 0, 0],\n",
       "       [0, 1, 1]])"
      ]
     },
     "execution_count": 20,
     "metadata": {},
     "output_type": "execute_result"
    }
   ],
   "source": [
    "np.random.uniform(0, 2, size=(2, 3)).astype(int)"
   ]
  },
  {
   "cell_type": "code",
   "execution_count": 31,
   "metadata": {},
   "outputs": [],
   "source": [
    "n = 8\n",
    "b = 4"
   ]
  },
  {
   "cell_type": "code",
   "execution_count": 32,
   "metadata": {},
   "outputs": [
    {
     "data": {
      "text/plain": [
       "(2, 0)"
      ]
     },
     "execution_count": 32,
     "metadata": {},
     "output_type": "execute_result"
    }
   ],
   "source": [
    "n // b, n % b"
   ]
  },
  {
   "cell_type": "code",
   "execution_count": 33,
   "metadata": {},
   "outputs": [],
   "source": [
    "l = np.arange(7)"
   ]
  },
  {
   "cell_type": "code",
   "execution_count": 34,
   "metadata": {},
   "outputs": [
    {
     "data": {
      "text/plain": [
       "array([0, 1, 2, 3, 4, 5, 6])"
      ]
     },
     "execution_count": 34,
     "metadata": {},
     "output_type": "execute_result"
    }
   ],
   "source": [
    "l"
   ]
  },
  {
   "cell_type": "code",
   "execution_count": 35,
   "metadata": {},
   "outputs": [
    {
     "data": {
      "text/plain": [
       "array([2])"
      ]
     },
     "execution_count": 35,
     "metadata": {},
     "output_type": "execute_result"
    }
   ],
   "source": [
    "l[2:3]"
   ]
  },
  {
   "cell_type": "code",
   "execution_count": 40,
   "metadata": {},
   "outputs": [
    {
     "data": {
      "text/plain": [
       "array([4, 5, 6])"
      ]
     },
     "execution_count": 40,
     "metadata": {},
     "output_type": "execute_result"
    }
   ],
   "source": [
    "l[slice(4, 7)]"
   ]
  },
  {
   "cell_type": "code",
   "execution_count": 3,
   "metadata": {},
   "outputs": [
    {
     "data": {
      "text/plain": [
       "1.1769392"
      ]
     },
     "execution_count": 3,
     "metadata": {},
     "output_type": "execute_result"
    }
   ],
   "source": [
    "y_true = [1, 2]\n",
    "y_pred = [[0.05, 0.95, 0], [0.1, 0.8, 0.1]]\n",
    "# Using 'auto'/'sum_over_batch_size' reduction type.\n",
    "scce = tf.keras.losses.SparseCategoricalCrossentropy()\n",
    "scce(y_true, y_pred).numpy()"
   ]
  },
  {
   "cell_type": "code",
   "execution_count": 4,
   "metadata": {},
   "outputs": [
    {
     "name": "stdout",
     "output_type": "stream",
     "text": [
      "[[1]\n",
      " [2]]\n",
      "[[0.05 0.95 0.  ]\n",
      " [0.1  0.8  0.1 ]]\n",
      "tf.Tensor(1.1769392490386963, shape=(), dtype=float64)\n"
     ]
    }
   ],
   "source": [
    "yt = np.array(y_true)[..., None]\n",
    "yp = np.array(y_pred)\n",
    "print(yt)\n",
    "print(yp)\n",
    "print(scce(yt, yp))"
   ]
  },
  {
   "cell_type": "code",
   "execution_count": null,
   "metadata": {},
   "outputs": [],
   "source": []
  }
 ],
 "metadata": {
  "interpreter": {
   "hash": "7bfe13b4e2a61ac623d9cdc92a5e3efb4f7f2434b81a90fa8bb7398804e19098"
  },
  "kernelspec": {
   "display_name": "Python 3 (ipykernel)",
   "language": "python",
   "name": "python3"
  },
  "language_info": {
   "codemirror_mode": {
    "name": "ipython",
    "version": 3
   },
   "file_extension": ".py",
   "mimetype": "text/x-python",
   "name": "python",
   "nbconvert_exporter": "python",
   "pygments_lexer": "ipython3",
   "version": "3.9.12"
  }
 },
 "nbformat": 4,
 "nbformat_minor": 2
}
