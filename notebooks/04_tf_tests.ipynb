{
 "cells": [
  {
   "cell_type": "code",
   "execution_count": 3,
   "metadata": {},
   "outputs": [],
   "source": [
    "import numpy as np\n",
    "import tensorflow as tf"
   ]
  },
  {
   "cell_type": "code",
   "execution_count": 4,
   "metadata": {},
   "outputs": [
    {
     "name": "stdout",
     "output_type": "stream",
     "text": [
      "1 Physical GPUs, 1 Logical GPUs\n"
     ]
    }
   ],
   "source": [
    "def set_memory_growth():\n",
    "    gpus = tf.config.list_physical_devices('GPU')\n",
    "    if gpus:\n",
    "        try:\n",
    "            # Currently, memory growth needs to be the same across GPUs\n",
    "            for gpu in gpus:\n",
    "                tf.config.experimental.set_memory_growth(gpu, True)\n",
    "            logical_gpus = tf.config.list_logical_devices('GPU')\n",
    "            print(len(gpus), \"Physical GPUs,\", len(logical_gpus), \"Logical GPUs\")\n",
    "        except RuntimeError as e:\n",
    "            # Memory growth must be set before GPUs have been initialized\n",
    "            print(e)\n",
    "set_memory_growth()"
   ]
  },
  {
   "cell_type": "code",
   "execution_count": 67,
   "metadata": {},
   "outputs": [],
   "source": [
    "N = 10\n",
    "xt, yt = np.arange(N), np.arange(10)"
   ]
  },
  {
   "cell_type": "code",
   "execution_count": 68,
   "metadata": {},
   "outputs": [
    {
     "data": {
      "text/plain": [
       "array([0, 1, 2, 3, 4, 5, 6, 7, 8, 9])"
      ]
     },
     "execution_count": 68,
     "metadata": {},
     "output_type": "execute_result"
    }
   ],
   "source": [
    "xt"
   ]
  },
  {
   "cell_type": "code",
   "execution_count": 69,
   "metadata": {},
   "outputs": [
    {
     "data": {
      "text/plain": [
       "10"
      ]
     },
     "execution_count": 69,
     "metadata": {},
     "output_type": "execute_result"
    }
   ],
   "source": [
    "ds = tf.data.Dataset.from_tensor_slices(xt)\n",
    "list(ds.as_numpy_iterator())\n",
    "len(ds)"
   ]
  },
  {
   "cell_type": "code",
   "execution_count": 70,
   "metadata": {},
   "outputs": [],
   "source": [
    "from typing import Tuple"
   ]
  },
  {
   "cell_type": "code",
   "execution_count": 113,
   "metadata": {},
   "outputs": [],
   "source": [
    "class DS(tf.keras.utils.Sequence):\n",
    "    def __init__(self, name: str, n: int, b: int):\n",
    "        self.name = name\n",
    "        self.n = n\n",
    "        self.b = b\n",
    "        self.x = np.random.uniform(size=(self.n, 10, 10, 3))\n",
    "        self.y = np.random.randint(0, 2, size=(self.n, 10))\n",
    "    \n",
    "    def __len__(self) -> int:\n",
    "        return self.n // self.b + self.n % self.b\n",
    "\n",
    "    def __getitem__(self, ind: int) -> Tuple[np.ndarray]:\n",
    "        inds = slice(self.b * ind, self.b * (ind + 1))\n",
    "        x, y = self.x[inds], self.y[inds]\n",
    "        print(f'DS({self.name}).__getitem__', ind, len(x))\n",
    "        return self.x[inds], self.y[inds]\n",
    "    \n",
    "    def on_epoch_end(self):\n",
    "        print(f'DS({self.name}).on_epoch_end')\n",
    "        \n",
    "    def gen(self):\n",
    "        nb = self.n // self.b + self.n % self.b\n",
    "        ib = 0\n",
    "        while True:\n",
    "            inds = slice(self.b * ib, self.b * (ib + 1))\n",
    "            x, y = self.x[inds], self.y[inds]\n",
    "            print(f'DS({self.name})', ib, len(x))\n",
    "            yield x, y\n",
    "            ib += 1\n",
    "            if ib == nb:\n",
    "                print(f'DS({self.name}) is over')\n",
    "                ib = 0\n"
   ]
  },
  {
   "cell_type": "code",
   "execution_count": 114,
   "metadata": {},
   "outputs": [],
   "source": [
    "def get_uncompiled_model():\n",
    "    inp = tf.keras.Input(shape=(10, 10, 3), dtype=tf.float32)\n",
    "    x = inp\n",
    "    x = tf.keras.layers.Conv2D(5, 3, activation='relu')(x)\n",
    "    x = tf.keras.layers.Conv2D(10, 3, activation='relu')(x)\n",
    "    x = tf.keras.layers.GlobalAveragePooling2D()(x)\n",
    "    x = tf.keras.layers.Softmax()(x)\n",
    "    out = x\n",
    "    model = tf.keras.models.Model(inputs=inp, outputs=out)\n",
    "    return model\n"
   ]
  },
  {
   "cell_type": "code",
   "execution_count": 115,
   "metadata": {},
   "outputs": [],
   "source": [
    "model = get_uncompiled_model()\n",
    "model.compile(\n",
    "    optimizer=tf.keras.optimizers.RMSprop(learning_rate=1e-3),\n",
    "    loss=tf.keras.losses.CategoricalCrossentropy(),\n",
    "    metrics=[tf.keras.metrics.CategoricalAccuracy()],\n",
    ")"
   ]
  },
  {
   "cell_type": "code",
   "execution_count": 116,
   "metadata": {},
   "outputs": [],
   "source": [
    "ds_train = DS('train', 20, 4)\n",
    "ds_val = DS('val', 10, 4)"
   ]
  },
  {
   "cell_type": "code",
   "execution_count": 104,
   "metadata": {},
   "outputs": [
    {
     "name": "stdout",
     "output_type": "stream",
     "text": [
      "DS(train).__getitem__ 0 4\n",
      "Epoch 1/3\n",
      "DS(train).__getitem__ 0 4\n",
      "1/2 [==============>...............] - ETA: 0s - loss: 14.2495 - categorical_accuracy: 0.0000e+00DS(train).__getitem__ 1 4\n",
      "DS(val).__getitem__ 0 4\n",
      "DS(val).__getitem__ 0 4\n",
      "DS(val).__getitem__ 1 4\n",
      "DS(val).on_epoch_end\n",
      "2/2 [==============================] - 0s 63ms/step - loss: 12.3325 - categorical_accuracy: 0.1250 - val_loss: 11.9955 - val_categorical_accuracy: 0.1250\n",
      "DS(train).on_epoch_end\n",
      "Epoch 2/3\n",
      "DS(train).__getitem__ 0 4\n",
      "1/2 [==============>...............] - ETA: 0s - loss: 14.3490 - categorical_accuracy: 0.0000e+00DS(train).__getitem__ 1 4\n",
      "DS(val).__getitem__ 0 4\n",
      "DS(val).__getitem__ 1 4\n",
      "DS(val).on_epoch_end\n",
      "2/2 [==============================] - 0s 43ms/step - loss: 12.4135 - categorical_accuracy: 0.1250 - val_loss: 12.0610 - val_categorical_accuracy: 0.1250\n",
      "DS(train).on_epoch_end\n",
      "Epoch 3/3\n",
      "DS(train).__getitem__ 0 4\n",
      "1/2 [==============>...............] - ETA: 0s - loss: 14.4533 - categorical_accuracy: 0.0000e+00DS(train).__getitem__ 1 4\n",
      "DS(val).__getitem__ 0 4\n",
      "DS(val).__getitem__ 1 4\n",
      "DS(val).on_epoch_end\n",
      "2/2 [==============================] - 0s 44ms/step - loss: 12.4988 - categorical_accuracy: 0.1250 - val_loss: 12.1291 - val_categorical_accuracy: 0.1250\n",
      "DS(train).on_epoch_end\n"
     ]
    },
    {
     "data": {
      "text/plain": [
       "<tensorflow.python.keras.callbacks.History at 0x7f977856b460>"
      ]
     },
     "execution_count": 104,
     "metadata": {},
     "output_type": "execute_result"
    }
   ],
   "source": [
    "model.fit(ds_train, epochs=3, steps_per_epoch=2, validation_data=ds_val, validation_steps=2,\n",
    "          max_queue_size=0, workers=0, shuffle=True)"
   ]
  },
  {
   "cell_type": "code",
   "execution_count": 117,
   "metadata": {},
   "outputs": [
    {
     "name": "stdout",
     "output_type": "stream",
     "text": [
      "Epoch 1/3\n",
      "DS(train) 0 4\n",
      "1/2 [==============>...............] - ETA: 0s - loss: 12.1399 - categorical_accuracy: 0.2500DS(train) 1 4\n",
      "DS(val) 0 4\n",
      "DS(val) 1 4\n",
      "2/2 [==============================] - 0s 149ms/step - loss: 11.1460 - categorical_accuracy: 0.1667 - val_loss: 10.9498 - val_categorical_accuracy: 0.0000e+00\n",
      "Epoch 2/3\n",
      "DS(train) 2 4\n",
      "1/2 [==============>...............] - ETA: 0s - loss: 10.4354 - categorical_accuracy: 0.0000e+00DS(train) 3 4\n",
      "DS(val) 0 4\n",
      "DS(val) 1 4\n",
      "2/2 [==============================] - 0s 34ms/step - loss: 10.8114 - categorical_accuracy: 0.0000e+00 - val_loss: 10.9561 - val_categorical_accuracy: 0.0000e+00\n",
      "Epoch 3/3\n",
      "DS(train) 4 4\n",
      "1/2 [==============>...............] - ETA: 0s - loss: 11.4056 - categorical_accuracy: 0.2500DS(train) is over\n",
      "DS(train) 0 4\n",
      "DS(val) 0 4\n",
      "DS(val) 1 4\n",
      "2/2 [==============================] - 0s 38ms/step - loss: 11.6635 - categorical_accuracy: 0.2500 - val_loss: 10.9698 - val_categorical_accuracy: 0.0000e+00\n"
     ]
    },
    {
     "data": {
      "text/plain": [
       "<tensorflow.python.keras.callbacks.History at 0x7f93b0a4a1c0>"
      ]
     },
     "execution_count": 117,
     "metadata": {},
     "output_type": "execute_result"
    }
   ],
   "source": [
    "out_sig = (\n",
    "        tf.TensorSpec(shape=(None, 10, 10, 3), dtype=tf.float32),\n",
    "        tf.TensorSpec(shape=(None, 10), dtype=tf.float32),\n",
    "    )\n",
    "ds_train_gen = tf.data.Dataset.from_generator(ds_train.gen, output_signature=out_sig)\n",
    "ds_val_gen = tf.data.Dataset.from_generator(ds_val.gen, output_signature=out_sig)\n",
    "model.fit(ds_train_gen, epochs=3, steps_per_epoch=2, validation_data=ds_val_gen, validation_steps=2,\n",
    "          max_queue_size=0, workers=0, shuffle=True)"
   ]
  },
  {
   "cell_type": "code",
   "execution_count": 20,
   "metadata": {},
   "outputs": [
    {
     "data": {
      "text/plain": [
       "array([[0, 0, 0],\n",
       "       [0, 1, 1]])"
      ]
     },
     "execution_count": 20,
     "metadata": {},
     "output_type": "execute_result"
    }
   ],
   "source": [
    "np.random.uniform(0, 2, size=(2, 3)).astype(int)"
   ]
  },
  {
   "cell_type": "code",
   "execution_count": 31,
   "metadata": {},
   "outputs": [],
   "source": [
    "n = 8\n",
    "b = 4"
   ]
  },
  {
   "cell_type": "code",
   "execution_count": 32,
   "metadata": {},
   "outputs": [
    {
     "data": {
      "text/plain": [
       "(2, 0)"
      ]
     },
     "execution_count": 32,
     "metadata": {},
     "output_type": "execute_result"
    }
   ],
   "source": [
    "n // b, n % b"
   ]
  },
  {
   "cell_type": "code",
   "execution_count": 33,
   "metadata": {},
   "outputs": [],
   "source": [
    "l = np.arange(7)"
   ]
  },
  {
   "cell_type": "code",
   "execution_count": 34,
   "metadata": {},
   "outputs": [
    {
     "data": {
      "text/plain": [
       "array([0, 1, 2, 3, 4, 5, 6])"
      ]
     },
     "execution_count": 34,
     "metadata": {},
     "output_type": "execute_result"
    }
   ],
   "source": [
    "l"
   ]
  },
  {
   "cell_type": "code",
   "execution_count": 35,
   "metadata": {},
   "outputs": [
    {
     "data": {
      "text/plain": [
       "array([2])"
      ]
     },
     "execution_count": 35,
     "metadata": {},
     "output_type": "execute_result"
    }
   ],
   "source": [
    "l[2:3]"
   ]
  },
  {
   "cell_type": "code",
   "execution_count": 40,
   "metadata": {},
   "outputs": [
    {
     "data": {
      "text/plain": [
       "array([4, 5, 6])"
      ]
     },
     "execution_count": 40,
     "metadata": {},
     "output_type": "execute_result"
    }
   ],
   "source": [
    "l[slice(4, 7)]"
   ]
  },
  {
   "cell_type": "code",
   "execution_count": 3,
   "metadata": {},
   "outputs": [
    {
     "data": {
      "text/plain": [
       "1.1769392"
      ]
     },
     "execution_count": 3,
     "metadata": {},
     "output_type": "execute_result"
    }
   ],
   "source": [
    "y_true = [1, 2]\n",
    "y_pred = [[0.05, 0.95, 0], [0.1, 0.8, 0.1]]\n",
    "# Using 'auto'/'sum_over_batch_size' reduction type.\n",
    "scce = tf.keras.losses.SparseCategoricalCrossentropy()\n",
    "scce(y_true, y_pred).numpy()"
   ]
  },
  {
   "cell_type": "code",
   "execution_count": 4,
   "metadata": {},
   "outputs": [
    {
     "name": "stdout",
     "output_type": "stream",
     "text": [
      "[[1]\n",
      " [2]]\n",
      "[[0.05 0.95 0.  ]\n",
      " [0.1  0.8  0.1 ]]\n",
      "tf.Tensor(1.1769392490386963, shape=(), dtype=float64)\n"
     ]
    }
   ],
   "source": [
    "yt = np.array(y_true)[..., None]\n",
    "yp = np.array(y_pred)\n",
    "print(yt)\n",
    "print(yp)\n",
    "print(scce(yt, yp))"
   ]
  },
  {
   "cell_type": "code",
   "execution_count": 4,
   "metadata": {},
   "outputs": [
    {
     "data": {
      "text/plain": [
       "<tf.Tensor: shape=(2, 3), dtype=int32, numpy=\n",
       "array([[5, 8, 6],\n",
       "       [5, 4, 8]], dtype=int32)>"
      ]
     },
     "execution_count": 4,
     "metadata": {},
     "output_type": "execute_result"
    }
   ],
   "source": [
    "t = tf.random.uniform((2, 3), 0, 10, tf.int32)\n",
    "t"
   ]
  },
  {
   "cell_type": "code",
   "execution_count": 8,
   "metadata": {},
   "outputs": [
    {
     "data": {
      "text/plain": [
       "<tf.Tensor: shape=(4,), dtype=int32, numpy=array([5, 8, 6, 4], dtype=int32)>"
      ]
     },
     "execution_count": 8,
     "metadata": {},
     "output_type": "execute_result"
    }
   ],
   "source": [
    "u, _ = tf.unique(tf.reshape(t, -1))\n",
    "u"
   ]
  },
  {
   "cell_type": "code",
   "execution_count": 6,
   "metadata": {},
   "outputs": [
    {
     "data": {
      "text/plain": [
       "<tf.Tensor: shape=(6,), dtype=int32, numpy=array([5, 8, 6, 5, 4, 8], dtype=int32)>"
      ]
     },
     "execution_count": 6,
     "metadata": {},
     "output_type": "execute_result"
    }
   ],
   "source": [
    "tf.reshape(t, -1)"
   ]
  },
  {
   "cell_type": "code",
   "execution_count": 13,
   "metadata": {},
   "outputs": [
    {
     "name": "stdout",
     "output_type": "stream",
     "text": [
      "5 <class 'numpy.int32'>\n",
      "8 <class 'numpy.int32'>\n",
      "6 <class 'numpy.int32'>\n",
      "4 <class 'numpy.int32'>\n"
     ]
    }
   ],
   "source": [
    "for x in list(u.numpy()):\n",
    "    print(x.item(), type(x))"
   ]
  },
  {
   "cell_type": "code",
   "execution_count": 17,
   "metadata": {},
   "outputs": [
    {
     "name": "stdout",
     "output_type": "stream",
     "text": [
      "5 <class 'int'>\n",
      "8 <class 'int'>\n",
      "6 <class 'int'>\n",
      "4 <class 'int'>\n"
     ]
    }
   ],
   "source": [
    "for x in u:\n",
    "    print(int(x), type(int(x)))"
   ]
  },
  {
   "cell_type": "code",
   "execution_count": 18,
   "metadata": {},
   "outputs": [],
   "source": [
    "c = (1, 2)"
   ]
  },
  {
   "cell_type": "code",
   "execution_count": 19,
   "metadata": {},
   "outputs": [
    {
     "data": {
      "text/plain": [
       "<tf.Tensor: shape=(4, 2), dtype=uint8, numpy=\n",
       "array([[0, 0],\n",
       "       [0, 0],\n",
       "       [0, 0],\n",
       "       [0, 0]], dtype=uint8)>"
      ]
     },
     "execution_count": 19,
     "metadata": {},
     "output_type": "execute_result"
    }
   ],
   "source": [
    "t = tf.zeros((4, 2), np.uint8)\n",
    "t"
   ]
  },
  {
   "cell_type": "code",
   "execution_count": 21,
   "metadata": {},
   "outputs": [
    {
     "ename": "TypeError",
     "evalue": "'tensorflow.python.framework.ops.EagerTensor' object does not support item assignment",
     "output_type": "error",
     "traceback": [
      "\u001b[0;31m---------------------------------------------------------------------------\u001b[0m",
      "\u001b[0;31mTypeError\u001b[0m                                 Traceback (most recent call last)",
      "Input \u001b[0;32mIn [21]\u001b[0m, in \u001b[0;36m<cell line: 1>\u001b[0;34m()\u001b[0m\n\u001b[0;32m----> 1\u001b[0m t[:\u001b[38;5;241m2\u001b[39m] \u001b[38;5;241m+\u001b[39m\u001b[38;5;241m=\u001b[39m c\n",
      "\u001b[0;31mTypeError\u001b[0m: 'tensorflow.python.framework.ops.EagerTensor' object does not support item assignment"
     ]
    }
   ],
   "source": [
    "t[:2] += c"
   ]
  },
  {
   "cell_type": "code",
   "execution_count": 24,
   "metadata": {},
   "outputs": [
    {
     "data": {
      "text/plain": [
       "array([[5, 4],\n",
       "       [6, 5],\n",
       "       [4, 3],\n",
       "       [9, 8]], dtype=uint8)"
      ]
     },
     "execution_count": 24,
     "metadata": {},
     "output_type": "execute_result"
    }
   ],
   "source": [
    "a = np.random.randint(0, 10, (4, 2), np.uint8)\n",
    "a"
   ]
  },
  {
   "cell_type": "code",
   "execution_count": 26,
   "metadata": {},
   "outputs": [
    {
     "data": {
      "text/plain": [
       "array([3, 4, 5, 6, 8, 9], dtype=uint8)"
      ]
     },
     "execution_count": 26,
     "metadata": {},
     "output_type": "execute_result"
    }
   ],
   "source": [
    "u = np.unique(a)\n",
    "u"
   ]
  },
  {
   "cell_type": "code",
   "execution_count": 31,
   "metadata": {},
   "outputs": [
    {
     "data": {
      "text/plain": [
       "array([[[0.31200006, 0.67915729],\n",
       "        [0.86853673, 0.83548093]],\n",
       "\n",
       "       [[0.73041142, 0.64865287],\n",
       "        [0.58436323, 0.61314648]],\n",
       "\n",
       "       [[0.8027759 , 0.31762786],\n",
       "        [0.62465495, 0.9026469 ]],\n",
       "\n",
       "       [[0.40696541, 0.30224006],\n",
       "        [0.3530455 , 0.01182745]]])"
      ]
     },
     "execution_count": 31,
     "metadata": {},
     "output_type": "execute_result"
    }
   ],
   "source": [
    "b = np.random.random((4, 2, 2))\n",
    "b"
   ]
  },
  {
   "cell_type": "code",
   "execution_count": 32,
   "metadata": {},
   "outputs": [],
   "source": [
    "b[a == 4] = (-1, -2)"
   ]
  },
  {
   "cell_type": "code",
   "execution_count": 33,
   "metadata": {},
   "outputs": [
    {
     "data": {
      "text/plain": [
       "array([[[ 0.31200006,  0.67915729],\n",
       "        [-1.        , -2.        ]],\n",
       "\n",
       "       [[ 0.73041142,  0.64865287],\n",
       "        [ 0.58436323,  0.61314648]],\n",
       "\n",
       "       [[-1.        , -2.        ],\n",
       "        [ 0.62465495,  0.9026469 ]],\n",
       "\n",
       "       [[ 0.40696541,  0.30224006],\n",
       "        [ 0.3530455 ,  0.01182745]]])"
      ]
     },
     "execution_count": 33,
     "metadata": {},
     "output_type": "execute_result"
    }
   ],
   "source": [
    "b"
   ]
  },
  {
   "cell_type": "code",
   "execution_count": 35,
   "metadata": {},
   "outputs": [
    {
     "data": {
      "text/plain": [
       "<tf.Tensor: shape=(6,), dtype=uint8, numpy=array([3, 4, 5, 6, 8, 9], dtype=uint8)>"
      ]
     },
     "execution_count": 35,
     "metadata": {},
     "output_type": "execute_result"
    }
   ],
   "source": [
    "tf.convert_to_tensor(u)"
   ]
  },
  {
   "cell_type": "code",
   "execution_count": 37,
   "metadata": {},
   "outputs": [
    {
     "data": {
      "text/plain": [
       "<tf.Tensor: shape=(4, 2, 2), dtype=float64, numpy=\n",
       "array([[[ 0.31200006,  0.67915729],\n",
       "        [-1.        , -2.        ]],\n",
       "\n",
       "       [[ 0.73041142,  0.64865287],\n",
       "        [ 0.58436323,  0.61314648]],\n",
       "\n",
       "       [[-1.        , -2.        ],\n",
       "        [ 0.62465495,  0.9026469 ]],\n",
       "\n",
       "       [[ 0.40696541,  0.30224006],\n",
       "        [ 0.3530455 ,  0.01182745]]])>"
      ]
     },
     "execution_count": 37,
     "metadata": {},
     "output_type": "execute_result"
    }
   ],
   "source": [
    "tf.convert_to_tensor(b)"
   ]
  },
  {
   "cell_type": "code",
   "execution_count": 9,
   "metadata": {},
   "outputs": [
    {
     "data": {
      "text/plain": [
       "<tf.Tensor: shape=(2, 3), dtype=int32, numpy=\n",
       "array([[9, 9, 0],\n",
       "       [6, 2, 0]], dtype=int32)>"
      ]
     },
     "execution_count": 9,
     "metadata": {},
     "output_type": "execute_result"
    }
   ],
   "source": [
    "a = tf.random.uniform((2, 3), 0, 10, dtype=tf.int32)\n",
    "a"
   ]
  },
  {
   "cell_type": "code",
   "execution_count": 12,
   "metadata": {},
   "outputs": [
    {
     "data": {
      "text/plain": [
       "(<tf.Tensor: shape=(2, 3), dtype=float32, numpy=\n",
       " array([[0.83205026, 0.97618705,        nan],\n",
       "        [0.5547002 , 0.21693046,        nan]], dtype=float32)>,\n",
       " <tf.Tensor: shape=(1, 3), dtype=float32, numpy=array([[10.816654,  9.219544,  0.      ]], dtype=float32)>)"
      ]
     },
     "execution_count": 12,
     "metadata": {},
     "output_type": "execute_result"
    }
   ],
   "source": [
    "af = tf.cast(a, tf.float32)\n",
    "tf.linalg.normalize(af, axis=0)"
   ]
  },
  {
   "cell_type": "code",
   "execution_count": 25,
   "metadata": {},
   "outputs": [
    {
     "data": {
      "text/plain": [
       "<tf.Tensor: shape=(2, 3, 2), dtype=float32, numpy=\n",
       "array([[[0.47196913, 0.8774214 ],\n",
       "        [0.1535958 , 0.77537155],\n",
       "        [0.66445637, 0.07393742]],\n",
       "\n",
       "       [[0.18289328, 0.87432253],\n",
       "        [0.12357914, 0.28364694],\n",
       "        [0.01825964, 0.25285006]]], dtype=float32)>"
      ]
     },
     "execution_count": 25,
     "metadata": {},
     "output_type": "execute_result"
    }
   ],
   "source": [
    "a = tf.random.uniform((2, 3, 2))\n",
    "a"
   ]
  },
  {
   "cell_type": "code",
   "execution_count": 39,
   "metadata": {},
   "outputs": [
    {
     "data": {
      "text/plain": [
       "((2, 3, 2), (2, 3), (2, 3))"
      ]
     },
     "execution_count": 39,
     "metadata": {},
     "output_type": "execute_result"
    }
   ],
   "source": [
    "x = a.numpy()\n",
    "xn = np.linalg.norm(x, axis=-1)\n",
    "xm = xn >= 0.3\n",
    "x.shape, xn.shape, xm.shape"
   ]
  },
  {
   "cell_type": "code",
   "execution_count": 40,
   "metadata": {},
   "outputs": [
    {
     "data": {
      "text/plain": [
       "array([[[0.47371966, 0.88067573],\n",
       "        [0.19431725, 0.9809387 ],\n",
       "        [0.99386585, 0.11059247]],\n",
       "\n",
       "       [[0.20475112, 0.9788141 ],\n",
       "        [0.39941746, 0.91676915],\n",
       "        [0.01825964, 0.25285006]]], dtype=float32)"
      ]
     },
     "execution_count": 40,
     "metadata": {},
     "output_type": "execute_result"
    }
   ],
   "source": [
    "x[xm] /= xn[xm][..., None]\n",
    "x"
   ]
  },
  {
   "cell_type": "code",
   "execution_count": 34,
   "metadata": {},
   "outputs": [
    {
     "data": {
      "text/plain": [
       "array([[ True,  True,  True],\n",
       "       [ True,  True, False]])"
      ]
     },
     "execution_count": 34,
     "metadata": {},
     "output_type": "execute_result"
    }
   ],
   "source": [
    "xm"
   ]
  },
  {
   "cell_type": "code",
   "execution_count": 28,
   "metadata": {},
   "outputs": [
    {
     "data": {
      "text/plain": [
       "array([[0.9963047 , 0.79043835, 0.6685574 ],\n",
       "       [0.89324677, 0.30939844, 0.2535085 ]], dtype=float32)"
      ]
     },
     "execution_count": 28,
     "metadata": {},
     "output_type": "execute_result"
    }
   ],
   "source": [
    "xn"
   ]
  },
  {
   "cell_type": "code",
   "execution_count": 41,
   "metadata": {},
   "outputs": [
    {
     "data": {
      "text/plain": [
       "<tf.Tensor: shape=(2, 3, 2), dtype=float32, numpy=\n",
       "array([[[0.47196913, 0.8774214 ],\n",
       "        [0.1535958 , 0.77537155],\n",
       "        [0.66445637, 0.07393742]],\n",
       "\n",
       "       [[0.18289328, 0.87432253],\n",
       "        [0.12357914, 0.28364694],\n",
       "        [0.01825964, 0.25285006]]], dtype=float32)>"
      ]
     },
     "execution_count": 41,
     "metadata": {},
     "output_type": "execute_result"
    }
   ],
   "source": [
    "a"
   ]
  },
  {
   "cell_type": "code",
   "execution_count": 42,
   "metadata": {},
   "outputs": [
    {
     "data": {
      "text/plain": [
       "<tf.Tensor: shape=(2, 3, 2), dtype=bool, numpy=\n",
       "array([[[ True,  True],\n",
       "        [ True,  True],\n",
       "        [ True,  True]],\n",
       "\n",
       "       [[ True,  True],\n",
       "        [ True,  True],\n",
       "        [ True,  True]]])>"
      ]
     },
     "execution_count": 42,
     "metadata": {},
     "output_type": "execute_result"
    }
   ],
   "source": [
    "tf.cast(a, tf.bool)"
   ]
  },
  {
   "cell_type": "code",
   "execution_count": 45,
   "metadata": {},
   "outputs": [
    {
     "data": {
      "text/plain": [
       "<tf.Tensor: shape=(2, 3), dtype=int32, numpy=\n",
       "array([[1, 1, 0],\n",
       "       [0, 1, 1]], dtype=int32)>"
      ]
     },
     "execution_count": 45,
     "metadata": {},
     "output_type": "execute_result"
    }
   ],
   "source": [
    "x = tf.random.uniform((2, 3), 0, 2, tf.int32)\n",
    "x"
   ]
  },
  {
   "cell_type": "code",
   "execution_count": 47,
   "metadata": {},
   "outputs": [
    {
     "data": {
      "text/plain": [
       "<tf.Tensor: shape=(2, 3), dtype=bool, numpy=\n",
       "array([[ True,  True, False],\n",
       "       [False,  True,  True]])>"
      ]
     },
     "execution_count": 47,
     "metadata": {},
     "output_type": "execute_result"
    }
   ],
   "source": [
    "tf.cast(x, tf.bool)"
   ]
  },
  {
   "cell_type": "code",
   "execution_count": 48,
   "metadata": {},
   "outputs": [
    {
     "data": {
      "text/plain": [
       "<tf.Tensor: shape=(2, 3), dtype=bool, numpy=\n",
       "array([[ True,  True, False],\n",
       "       [False,  True,  True]])>"
      ]
     },
     "execution_count": 48,
     "metadata": {},
     "output_type": "execute_result"
    }
   ],
   "source": [
    "y = tf.cast(x, tf.float32)\n",
    "tf.cast(y, tf.bool)"
   ]
  },
  {
   "cell_type": "code",
   "execution_count": 49,
   "metadata": {},
   "outputs": [
    {
     "data": {
      "text/plain": [
       "2"
      ]
     },
     "execution_count": 49,
     "metadata": {},
     "output_type": "execute_result"
    }
   ],
   "source": [
    "len(x)"
   ]
  },
  {
   "cell_type": "code",
   "execution_count": 50,
   "metadata": {},
   "outputs": [
    {
     "data": {
      "text/plain": [
       "TensorShape([2, 3])"
      ]
     },
     "execution_count": 50,
     "metadata": {},
     "output_type": "execute_result"
    }
   ],
   "source": [
    "x.shape"
   ]
  },
  {
   "cell_type": "code",
   "execution_count": 51,
   "metadata": {},
   "outputs": [
    {
     "name": "stdout",
     "output_type": "stream",
     "text": [
      "[0, 1, 2, 3, 4, 5, 6, 7, 8, 9]\n",
      "[3, 7, 4, 8, 5, 0, 2, 9, 6, 1]\n"
     ]
    }
   ],
   "source": [
    "l = list(range(10))\n",
    "print(l)\n",
    "np.random.shuffle(l)\n",
    "print(l)"
   ]
  },
  {
   "cell_type": "code",
   "execution_count": 56,
   "metadata": {},
   "outputs": [
    {
     "name": "stdout",
     "output_type": "stream",
     "text": [
      "tf.Tensor(\n",
      "[[0.06365311 0.63394547]\n",
      " [0.1756128  0.5204389 ]\n",
      " [0.90855193 0.7148839 ]\n",
      " [0.75107276 0.5391841 ]\n",
      " [0.67091084 0.08267534]], shape=(5, 2), dtype=float32) tf.Tensor(\n",
      "[[0.64913106 0.38104343]\n",
      " [0.7203268  0.90687   ]\n",
      " [0.07305932 0.04641211]\n",
      " [0.099563   0.11231327]\n",
      " [0.65197647 0.6700978 ]], shape=(5, 2), dtype=float32)\n"
     ]
    }
   ],
   "source": [
    "x = tf.random.uniform((5, 2), 0, 1)\n",
    "y = tf.random.uniform((5, 2), 0, 1)\n",
    "print(x, y)"
   ]
  },
  {
   "cell_type": "code",
   "execution_count": 57,
   "metadata": {},
   "outputs": [
    {
     "data": {
      "text/plain": [
       "<tf.Tensor: shape=(5, 2), dtype=float32, numpy=\n",
       "array([[0.04131921, 0.24156076],\n",
       "       [0.12649861, 0.47197044],\n",
       "       [0.06637818, 0.03317927],\n",
       "       [0.07477906, 0.06055753],\n",
       "       [0.43741807, 0.05540057]], dtype=float32)>"
      ]
     },
     "execution_count": 57,
     "metadata": {},
     "output_type": "execute_result"
    }
   ],
   "source": [
    "x * y"
   ]
  },
  {
   "cell_type": "code",
   "execution_count": 55,
   "metadata": {},
   "outputs": [
    {
     "data": {
      "text/plain": [
       "<tf.Tensor: shape=(), dtype=float32, numpy=0.080847286>"
      ]
     },
     "execution_count": 55,
     "metadata": {},
     "output_type": "execute_result"
    }
   ],
   "source": [
    "x[0, 0] * y[0, 0]"
   ]
  },
  {
   "cell_type": "code",
   "execution_count": 66,
   "metadata": {},
   "outputs": [
    {
     "data": {
      "text/plain": [
       "<tf.Tensor: shape=(5,), dtype=float32, numpy=\n",
       "array([0.63713306, 0.5492691 , 1.156082  , 0.9245701 , 0.67598563],\n",
       "      dtype=float32)>"
      ]
     },
     "execution_count": 66,
     "metadata": {},
     "output_type": "execute_result"
    }
   ],
   "source": [
    "n = tf.norm(x, axis=-1)\n",
    "n"
   ]
  },
  {
   "cell_type": "code",
   "execution_count": 68,
   "metadata": {},
   "outputs": [
    {
     "data": {
      "text/plain": [
       "<tf.Tensor: shape=(5,), dtype=float32, numpy=\n",
       "array([0.6975986, 0.6960517, 1.6234359, 1.2902569, 0.7535862],\n",
       "      dtype=float32)>"
      ]
     },
     "execution_count": 68,
     "metadata": {},
     "output_type": "execute_result"
    }
   ],
   "source": [
    "x1 = tf.reduce_sum(x, axis=-1)\n",
    "x1"
   ]
  },
  {
   "cell_type": "code",
   "execution_count": 69,
   "metadata": {},
   "outputs": [
    {
     "data": {
      "text/plain": [
       "<tf.Tensor: shape=(5,), dtype=float32, numpy=\n",
       "array([1.0949025, 1.2672327, 1.4042566, 1.3955209, 1.1147962],\n",
       "      dtype=float32)>"
      ]
     },
     "execution_count": 69,
     "metadata": {},
     "output_type": "execute_result"
    }
   ],
   "source": [
    "x1 / n"
   ]
  },
  {
   "cell_type": "code",
   "execution_count": 87,
   "metadata": {},
   "outputs": [
    {
     "data": {
      "text/plain": [
       "array([[[0.38783133, 0.2115935 , 0.87307943],\n",
       "        [0.42604806, 0.11948292, 0.14302413]],\n",
       "\n",
       "       [[0.15632606, 0.00918984, 0.24872676],\n",
       "        [0.25252541, 0.34400804, 0.11861873]]])"
      ]
     },
     "execution_count": 87,
     "metadata": {},
     "output_type": "execute_result"
    }
   ],
   "source": [
    "a = np.random.uniform(0, 1, (2,2,3))\n",
    "a"
   ]
  },
  {
   "cell_type": "code",
   "execution_count": 88,
   "metadata": {},
   "outputs": [
    {
     "data": {
      "text/plain": [
       "array([[0.97849509, 0.46502583],\n",
       "       [0.29391716, 0.44292326]])"
      ]
     },
     "execution_count": 88,
     "metadata": {},
     "output_type": "execute_result"
    }
   ],
   "source": [
    "b = np.linalg.norm(a, axis=-1)\n",
    "b"
   ]
  },
  {
   "cell_type": "code",
   "execution_count": 93,
   "metadata": {},
   "outputs": [
    {
     "data": {
      "text/plain": [
       "array([[ True,  True],\n",
       "       [False,  True]])"
      ]
     },
     "execution_count": 93,
     "metadata": {},
     "output_type": "execute_result"
    }
   ],
   "source": [
    "bm = b > 0.4\n",
    "bm"
   ]
  },
  {
   "cell_type": "code",
   "execution_count": 97,
   "metadata": {},
   "outputs": [
    {
     "data": {
      "text/plain": [
       "(array([[0.38783133, 0.2115935 , 0.87307943],\n",
       "        [0.42604806, 0.11948292, 0.14302413],\n",
       "        [0.25252541, 0.34400804, 0.11861873]]),\n",
       " array([[0.97849509],\n",
       "        [0.46502583],\n",
       "        [0.44292326]]))"
      ]
     },
     "execution_count": 97,
     "metadata": {},
     "output_type": "execute_result"
    }
   ],
   "source": [
    "a[bm], b[bm][..., None]"
   ]
  },
  {
   "cell_type": "code",
   "execution_count": 98,
   "metadata": {},
   "outputs": [
    {
     "data": {
      "text/plain": [
       "array([[[-0.39635491, -0.2162438 , -0.89226756],\n",
       "        [-0.9161815 , -0.25693825, -0.30756169]],\n",
       "\n",
       "       [[ 0.15632606,  0.00918984,  0.24872676],\n",
       "        [-0.57013355, -0.77667638, -0.26780875]]])"
      ]
     },
     "execution_count": 98,
     "metadata": {},
     "output_type": "execute_result"
    }
   ],
   "source": [
    "a[bm] /= -b[bm][..., None]\n",
    "a"
   ]
  },
  {
   "cell_type": "code",
   "execution_count": 99,
   "metadata": {},
   "outputs": [
    {
     "data": {
      "text/plain": [
       "array([[1.        , 1.        ],\n",
       "       [0.29391716, 1.        ]])"
      ]
     },
     "execution_count": 99,
     "metadata": {},
     "output_type": "execute_result"
    }
   ],
   "source": [
    "np.linalg.norm(a, axis=-1)"
   ]
  },
  {
   "cell_type": "code",
   "execution_count": 78,
   "metadata": {},
   "outputs": [
    {
     "data": {
      "text/plain": [
       "<tf.Tensor: shape=(4, 3), dtype=float64, numpy=\n",
       "array([[ 0.35354987,  0.88606198,  0.06251439],\n",
       "       [ 0.77455812,  0.34072981,  0.06961438],\n",
       "       [-0.01133427, -0.69231146, -0.80417438],\n",
       "       [-0.9208761 , -0.30762072, -0.11335117]])>"
      ]
     },
     "execution_count": 78,
     "metadata": {},
     "output_type": "execute_result"
    }
   ],
   "source": [
    "tf.convert_to_tensor(a)"
   ]
  },
  {
   "cell_type": "code",
   "execution_count": 86,
   "metadata": {},
   "outputs": [
    {
     "data": {
      "text/plain": [
       "array([[0.65276334, 0.61901419, 0.16618695],\n",
       "       [0.00716774, 0.0128801 , 0.81666247],\n",
       "       [0.82226359, 0.05942693, 0.56599561],\n",
       "       [0.21484257, 0.24601617, 0.7193696 ]])"
      ]
     },
     "execution_count": 86,
     "metadata": {},
     "output_type": "execute_result"
    }
   ],
   "source": [
    "a.copy()"
   ]
  },
  {
   "cell_type": "code",
   "execution_count": null,
   "metadata": {},
   "outputs": [],
   "source": []
  }
 ],
 "metadata": {
  "interpreter": {
   "hash": "7bfe13b4e2a61ac623d9cdc92a5e3efb4f7f2434b81a90fa8bb7398804e19098"
  },
  "kernelspec": {
   "display_name": "Python 3 (ipykernel)",
   "language": "python",
   "name": "python3"
  },
  "language_info": {
   "codemirror_mode": {
    "name": "ipython",
    "version": 3
   },
   "file_extension": ".py",
   "mimetype": "text/x-python",
   "name": "python",
   "nbconvert_exporter": "python",
   "pygments_lexer": "ipython3",
   "version": "3.9.12"
  }
 },
 "nbformat": 4,
 "nbformat_minor": 2
}
